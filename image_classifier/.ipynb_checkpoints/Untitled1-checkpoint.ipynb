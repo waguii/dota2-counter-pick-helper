{
 "cells": [
  {
   "cell_type": "code",
   "execution_count": null,
   "id": "3b44ae8a-ac31-45fc-bc27-0b513a9b4fd4",
   "metadata": {},
   "outputs": [],
   "source": []
  },
  {
   "cell_type": "markdown",
   "id": "1f05c4cc-b0d3-427d-b591-956d054594c2",
   "metadata": {
    "tags": []
   },
   "source": [
    "# LETS ROCK"
   ]
  },
  {
   "cell_type": "code",
   "execution_count": null,
   "id": "dd329c75-d62e-4d21-b7d7-9853215bbe83",
   "metadata": {},
   "outputs": [],
   "source": []
  }
 ],
 "metadata": {
  "kernelspec": {
   "display_name": "Python 3 (ipykernel)",
   "language": "python",
   "name": "python3"
  },
  "language_info": {
   "codemirror_mode": {
    "name": "ipython",
    "version": 3
   },
   "file_extension": ".py",
   "mimetype": "text/x-python",
   "name": "python",
   "nbconvert_exporter": "python",
   "pygments_lexer": "ipython3",
   "version": "3.10.6"
  }
 },
 "nbformat": 4,
 "nbformat_minor": 5
}
