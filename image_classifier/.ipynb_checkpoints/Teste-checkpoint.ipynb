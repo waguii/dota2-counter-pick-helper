{
 "cells": [
  {
   "cell_type": "code",
   "execution_count": 46,
   "id": "df0553b9",
   "metadata": {},
   "outputs": [],
   "source": [
    "import os\n",
    "import shutil\n",
    "import requests\n",
    "\n",
    "class Dota2HeroPickImageDownloader:\n",
    "    def __init__(self, img_folder='hero_pick_images'):\n",
    "        self.base_url = 'https://cdn.akamai.steamstatic.com/apps/dota2/images/dota_react/heroes/'\n",
    "        self.img_folder = img_folder\n",
    "        self.heroes = [\n",
    "    \"abaddon\",\n",
    "    \"alchemist\",\n",
    "    \"ancient_apparition\",\n",
    "    \"antimage\",\n",
    "    \"arc_warden\",\n",
    "    \"axe\",\n",
    "    \"bane\",\n",
    "    \"batrider\",\n",
    "    \"beastmaster\",\n",
    "    \"bloodseeker\",\n",
    "    \"bounty_hunter\",\n",
    "    \"brewmaster\",\n",
    "    \"bristleback\",\n",
    "    \"broodmother\",\n",
    "    \"centaur\",\n",
    "    \"chaos_knight\",\n",
    "    \"chen\",\n",
    "    \"clinkz\",\n",
    "    \"rattletrap\",\n",
    "    \"crystal_maiden\",\n",
    "    \"dark_seer\",\n",
    "    \"dark_willow\",\n",
    "    \"dawnbreaker\",\n",
    "    \"dazzle\",\n",
    "    \"death_prophet\",\n",
    "    \"disruptor\",\n",
    "    \"doom_bringer\",\n",
    "    \"dragon_knight\",\n",
    "    \"drow_ranger\",\n",
    "    \"earth_spirit\",\n",
    "    \"earthshaker\",\n",
    "    \"elder_titan\",\n",
    "    \"ember_spirit\",\n",
    "    \"enchantress\",\n",
    "    \"enigma\",\n",
    "    \"faceless_void\",\n",
    "    \"primal_beast\",\n",
    "    \"grimstroke\",\n",
    "    \"gyrocopter\",\n",
    "    \"hoodwink\",\n",
    "    \"huskar\",\n",
    "    \"invoker\",\n",
    "    \"wisp\",\n",
    "    \"jakiro\",\n",
    "    \"juggernaut\",\n",
    "    \"keeper_of_the_light\",\n",
    "    \"kunkka\",\n",
    "    \"legion_commander\",\n",
    "    \"leshrac\",\n",
    "    \"lich\",\n",
    "    \"life_stealer\",\n",
    "    \"lina\",\n",
    "    \"lion\",\n",
    "    \"lone_druid\",\n",
    "    \"luna\",\n",
    "    \"lycan\",\n",
    "    \"magnataur\",\n",
    "    \"marci\",\n",
    "    \"mars\",\n",
    "    \"medusa\",\n",
    "    \"meepo\",\n",
    "    \"ringmaster\",\n",
    "    \"mirana\",\n",
    "    \"monkey_king\",\n",
    "    \"morphling\",\n",
    "    \"muerta\",\n",
    "    \"naga_siren\",\n",
    "    \"furion\",\n",
    "    \"necrolyte\",\n",
    "    \"night_stalker\",\n",
    "    \"nyx_assassin\",\n",
    "    \"ogre_magi\",\n",
    "    \"omniknight\",\n",
    "    \"oracle\",\n",
    "    \"obsidian_destroyer\",\n",
    "    \"pangolier\",\n",
    "    \"phantom_assassin\",\n",
    "    \"phantom_lancer\",\n",
    "    \"phoenix\",\n",
    "    \"puck\",\n",
    "    \"pudge\",\n",
    "    \"pugna\",\n",
    "    \"queenofpain\",\n",
    "    \"razor\",\n",
    "    \"riki\",\n",
    "    \"rubick\",\n",
    "    \"sand_king\",\n",
    "    \"shadow_demon\",\n",
    "    \"nevermore\",\n",
    "    \"shadow_shaman\",\n",
    "    \"silencer\",\n",
    "    \"skywrath_mage\",\n",
    "    \"slardar\",\n",
    "    \"slark\",\n",
    "    \"snapfire\",\n",
    "    \"sniper\",\n",
    "    \"spectre\",\n",
    "    \"spirit_breaker\",\n",
    "    \"storm_spirit\",\n",
    "    \"sven\",\n",
    "    \"techies\",\n",
    "    \"templar_assassin\",\n",
    "    \"terrorblade\",\n",
    "    \"tidehunter\",\n",
    "    \"shredder\",\n",
    "    \"tinker\",\n",
    "    \"tiny\",\n",
    "    \"treant\",\n",
    "    \"troll_warlord\",\n",
    "    \"tusk\",\n",
    "    \"abyssal_underlord\",\n",
    "    \"undying\",\n",
    "    \"ursa\",\n",
    "    \"vengefulspirit\",\n",
    "    \"venomancer\",\n",
    "    \"viper\",\n",
    "    \"visage\",\n",
    "    \"void_spirit\",\n",
    "    \"warlock\",\n",
    "    \"weaver\",\n",
    "    \"windrunner\",\n",
    "    \"winter_wyvern\",\n",
    "    \"witch_doctor\",\n",
    "    \"skeleton_king\",\n",
    "    \"zuus\"\n",
    "]\n",
    "    \n",
    "    def download_file(self, hero):\n",
    "        local_filename = hero + '.png'\n",
    "        path = os.path.join(\"{}/{}\".format(self.img_folder, local_filename))\n",
    "        with requests.get(self.base_url + local_filename, stream=True) as r:\n",
    "            with open(path, 'wb') as f:\n",
    "                shutil.copyfileobj(r.raw, f)\n",
    "\n",
    "        return local_filename\n",
    "    \n",
    "    def download_pick_hero_images(self):\n",
    "        for hero in self.heroes:\n",
    "            self.download_file(hero)\n",
    "    \n",
    "#Baixa todas as imagens e salva na pasta\n",
    "image_downloader = Dota2HeroPickImageDownloader()\n",
    "image_downloader.download_pick_hero_images()"
   ]
  },
  {
   "cell_type": "code",
   "execution_count": 57,
   "id": "221c7b12",
   "metadata": {},
   "outputs": [],
   "source": [
    "import cv2\n",
    "import numpy as np\n",
    "from pathlib import Path\n",
    "import os\n",
    "\n",
    "class Dota2ImageGenerator:\n",
    "    def __init__(self, source_dir='hero_images', output_dir='hero_dataset'):\n",
    "        self.source_dir = Path(source_dir)\n",
    "        self.output_dir = Path(output_dir)\n",
    "        \n",
    "        # Criar diretórios de saída se não existirem\n",
    "        self.output_dir.mkdir(exist_ok=True)\n",
    "    \n",
    "    def apply_ban_effect(self, image):\n",
    "        \"\"\"Aplica efeito de banimento na imagem do herói\"\"\"\n",
    "        height, width = image.shape[:2]\n",
    "        \n",
    "        # Criar máscara escura\n",
    "        darkened = cv2.addWeighted(image, 0.6, np.zeros_like(image), 0.4, 0)\n",
    "        \n",
    "        # Criar linha diagonal vermelha\n",
    "        mask = np.zeros_like(image)\n",
    "        cv2.line(mask, (width, 0), (0, height), (0, 0, 255), thickness=3)\n",
    "        \n",
    "        # Sobrepor a linha na imagem escurecida\n",
    "        result = cv2.addWeighted(darkened, 1, mask, 0.7, 0)\n",
    "        \n",
    "        return result\n",
    "    \n",
    "    def generate_variations(self, hero_name, image, ban = False):\n",
    "        \"\"\"Gera variações da imagem do herói\"\"\"\n",
    "        \n",
    "        if (ban):\n",
    "            image = self.apply_ban_effect(image)\n",
    "        \n",
    "        state = 'ban' if ban else 'pick'\n",
    "        \n",
    "        hero_state_dir = self.output_dir / f\"{hero_name}_{state}\"\n",
    "        hero_state_dir.mkdir(exist_ok=True)\n",
    "\n",
    "        # Salvar imagem base\n",
    "        cv2.imwrite(str(hero_state_dir / \"base.png\"), image)\n",
    "\n",
    "        # Gerar variações com ruído e diferentes níveis de brilho\n",
    "        for i in range(5):\n",
    "            # Adicionar ruído gaussiano\n",
    "            noise = np.random.normal(0, 5, image.shape).astype(np.uint8)\n",
    "            noisy = cv2.add(image, noise)\n",
    "\n",
    "            # Variar brilho\n",
    "            brightness = 0.8 + (i * 0.1)  # 0.8 a 1.2\n",
    "            bright = cv2.convertScaleAbs(image, alpha=brightness, beta=0)\n",
    "\n",
    "            # Salvar variações\n",
    "            cv2.imwrite(str(hero_state_dir / f\"noisy_{i}.png\"), noisy)\n",
    "            cv2.imwrite(str(hero_state_dir / f\"bright_{i}.png\"), bright)\n",
    "    \n",
    "    def process_heroes(self, source_dir, ban):\n",
    "        \"\"\"Processa todas as imagens de heróis no diretório fonte\"\"\"\n",
    "        for img_path in Path(source_dir).glob('*.png'):\n",
    "            hero_name = img_path.stem\n",
    "            print(f\"Processando herói: {hero_name}\")\n",
    "            \n",
    "            # Ler imagem\n",
    "            image = cv2.imread(str(img_path))\n",
    "            if image is None:\n",
    "                print(f\"Erro ao ler imagem: {img_path}\")\n",
    "                continue\n",
    "            \n",
    "            # Gerar variações\n",
    "            self.generate_variations(hero_name, image, ban)\n",
    "            \n",
    "    def process_pick_heroes(self, source_dir = 'hero_pick_images'):\n",
    "        self.process_heroes(source_dir, False)\n",
    "        \n",
    "    def process_ban_heroes(self, source_dir = 'hero_ban_images'):\n",
    "        self.process_heroes(source_dir, True)\n",
    "\n",
    "def prepare_dataset():\n",
    "    \"\"\"Prepara o dataset completo com classes separadas\"\"\"\n",
    "    # Configurar gerador\n",
    "    generator = Dota2ImageGenerator()\n",
    "    \n",
    "    # Processar imagens de picks\n",
    "    generator.process_pick_heroes('hero_pick_images')\n",
    "    # Processar imagens de bans\n",
    "    generator.process_ban_heroes('hero_ban_images')"
   ]
  },
  {
   "cell_type": "code",
   "execution_count": 58,
   "id": "b284666c",
   "metadata": {},
   "outputs": [
    {
     "name": "stdout",
     "output_type": "stream",
     "text": [
      "Processando herói: bloodseeker\n",
      "Processando herói: jakiro\n",
      "Processando herói: elder_titan\n",
      "Processando herói: gyrocopter\n",
      "Processando herói: earth_spirit\n"
     ]
    },
    {
     "name": "stderr",
     "output_type": "stream",
     "text": [
      "libpng warning: iCCP: known incorrect sRGB profile\n",
      "libpng warning: iCCP: known incorrect sRGB profile\n",
      "libpng warning: iCCP: known incorrect sRGB profile\n",
      "libpng warning: iCCP: known incorrect sRGB profile\n"
     ]
    },
    {
     "name": "stdout",
     "output_type": "stream",
     "text": [
      "Processando herói: ancient_apparition\n",
      "Processando herói: enchantress\n",
      "Processando herói: sand_king\n",
      "Processando herói: windrunner\n",
      "Processando herói: pudge\n"
     ]
    },
    {
     "name": "stderr",
     "output_type": "stream",
     "text": [
      "libpng warning: iCCP: known incorrect sRGB profile\n",
      "libpng warning: iCCP: known incorrect sRGB profile\n",
      "libpng warning: iCCP: known incorrect sRGB profile\n",
      "libpng warning: iCCP: known incorrect sRGB profile\n",
      "libpng warning: iCCP: known incorrect sRGB profile\n"
     ]
    },
    {
     "name": "stdout",
     "output_type": "stream",
     "text": [
      "Processando herói: slardar\n",
      "Processando herói: marci\n",
      "Processando herói: lone_druid\n",
      "Processando herói: weaver\n",
      "Processando herói: batrider\n"
     ]
    },
    {
     "name": "stderr",
     "output_type": "stream",
     "text": [
      "libpng warning: iCCP: known incorrect sRGB profile\n",
      "libpng warning: iCCP: known incorrect sRGB profile\n",
      "libpng warning: iCCP: known incorrect sRGB profile\n",
      "libpng warning: iCCP: known incorrect sRGB profile\n",
      "libpng warning: iCCP: known incorrect sRGB profile\n"
     ]
    },
    {
     "name": "stdout",
     "output_type": "stream",
     "text": [
      "Processando herói: huskar\n",
      "Processando herói: silencer\n",
      "Processando herói: chen\n",
      "Processando herói: bristleback\n",
      "Processando herói: lycan\n"
     ]
    },
    {
     "name": "stderr",
     "output_type": "stream",
     "text": [
      "libpng warning: iCCP: known incorrect sRGB profile\n",
      "libpng warning: iCCP: known incorrect sRGB profile\n",
      "libpng warning: iCCP: known incorrect sRGB profile\n",
      "libpng warning: iCCP: known incorrect sRGB profile\n",
      "libpng warning: iCCP: known incorrect sRGB profile\n"
     ]
    },
    {
     "name": "stdout",
     "output_type": "stream",
     "text": [
      "Processando herói: faceless_void\n",
      "Processando herói: zuus\n",
      "Processando herói: furion\n",
      "Processando herói: luna\n",
      "Processando herói: spirit_breaker\n"
     ]
    },
    {
     "name": "stderr",
     "output_type": "stream",
     "text": [
      "libpng warning: iCCP: known incorrect sRGB profile\n",
      "libpng warning: iCCP: known incorrect sRGB profile\n",
      "libpng warning: iCCP: known incorrect sRGB profile\n",
      "libpng warning: iCCP: known incorrect sRGB profile\n",
      "libpng warning: iCCP: known incorrect sRGB profile\n"
     ]
    },
    {
     "name": "stdout",
     "output_type": "stream",
     "text": [
      "Processando herói: omniknight\n",
      "Processando herói: antimage\n",
      "Processando herói: alchemist\n",
      "Processando herói: tinker\n",
      "Processando herói: necrolyte\n"
     ]
    },
    {
     "name": "stderr",
     "output_type": "stream",
     "text": [
      "libpng warning: iCCP: known incorrect sRGB profile\n",
      "libpng warning: iCCP: known incorrect sRGB profile\n",
      "libpng warning: iCCP: known incorrect sRGB profile\n",
      "libpng warning: iCCP: known incorrect sRGB profile\n",
      "libpng warning: iCCP: known incorrect sRGB profile\n"
     ]
    },
    {
     "name": "stdout",
     "output_type": "stream",
     "text": [
      "Processando herói: rubick\n",
      "Processando herói: razor\n",
      "Processando herói: ursa\n",
      "Processando herói: arc_warden\n",
      "Processando herói: clinkz\n"
     ]
    },
    {
     "name": "stderr",
     "output_type": "stream",
     "text": [
      "libpng warning: iCCP: known incorrect sRGB profile\n",
      "libpng warning: iCCP: known incorrect sRGB profile\n",
      "libpng warning: iCCP: known incorrect sRGB profile\n",
      "libpng warning: iCCP: known incorrect sRGB profile\n",
      "libpng warning: iCCP: known incorrect sRGB profile\n"
     ]
    },
    {
     "name": "stdout",
     "output_type": "stream",
     "text": [
      "Processando herói: bane\n",
      "Processando herói: nyx_assassin\n",
      "Processando herói: techies\n",
      "Processando herói: pangolier\n",
      "Processando herói: templar_assassin\n"
     ]
    },
    {
     "name": "stderr",
     "output_type": "stream",
     "text": [
      "libpng warning: iCCP: known incorrect sRGB profile\n",
      "libpng warning: iCCP: known incorrect sRGB profile\n",
      "libpng warning: iCCP: known incorrect sRGB profile\n",
      "libpng warning: iCCP: known incorrect sRGB profile\n",
      "libpng warning: iCCP: known incorrect sRGB profile\n"
     ]
    },
    {
     "name": "stdout",
     "output_type": "stream",
     "text": [
      "Processando herói: skeleton_king\n",
      "Processando herói: tiny\n",
      "Processando herói: terrorblade\n",
      "Processando herói: shadow_demon\n",
      "Processando herói: abyssal_underlord\n"
     ]
    },
    {
     "name": "stderr",
     "output_type": "stream",
     "text": [
      "libpng warning: iCCP: known incorrect sRGB profile\n",
      "libpng warning: iCCP: known incorrect sRGB profile\n",
      "libpng warning: iCCP: known incorrect sRGB profile\n",
      "libpng warning: iCCP: known incorrect sRGB profile\n",
      "libpng warning: iCCP: known incorrect sRGB profile\n"
     ]
    },
    {
     "name": "stdout",
     "output_type": "stream",
     "text": [
      "Processando herói: crystal_maiden\n",
      "Processando herói: shadow_shaman\n",
      "Processando herói: phantom_assassin\n",
      "Processando herói: treant\n",
      "Processando herói: oracle\n"
     ]
    },
    {
     "name": "stderr",
     "output_type": "stream",
     "text": [
      "libpng warning: iCCP: known incorrect sRGB profile\n",
      "libpng warning: iCCP: known incorrect sRGB profile\n",
      "libpng warning: iCCP: known incorrect sRGB profile\n",
      "libpng warning: iCCP: known incorrect sRGB profile\n"
     ]
    },
    {
     "name": "stdout",
     "output_type": "stream",
     "text": [
      "Processando herói: spectre\n",
      "Processando herói: juggernaut\n",
      "Processando herói: dark_seer\n",
      "Processando herói: tusk\n",
      "Processando herói: lich\n"
     ]
    },
    {
     "name": "stderr",
     "output_type": "stream",
     "text": [
      "libpng warning: iCCP: known incorrect sRGB profile\n",
      "libpng warning: iCCP: known incorrect sRGB profile\n",
      "libpng warning: iCCP: known incorrect sRGB profile\n",
      "libpng warning: iCCP: known incorrect sRGB profile\n",
      "libpng warning: iCCP: known incorrect sRGB profile\n"
     ]
    },
    {
     "name": "stdout",
     "output_type": "stream",
     "text": [
      "Processando herói: death_prophet\n",
      "Processando herói: skywrath_mage\n",
      "Processando herói: lion\n",
      "Processando herói: magnataur\n",
      "Processando herói: wisp\n"
     ]
    },
    {
     "name": "stderr",
     "output_type": "stream",
     "text": [
      "libpng warning: iCCP: known incorrect sRGB profile\n",
      "libpng warning: iCCP: known incorrect sRGB profile\n",
      "libpng warning: iCCP: known incorrect sRGB profile\n",
      "libpng warning: iCCP: known incorrect sRGB profile\n",
      "libpng warning: iCCP: known incorrect sRGB profile\n"
     ]
    },
    {
     "name": "stdout",
     "output_type": "stream",
     "text": [
      "Processando herói: grimstroke\n",
      "Processando herói: viper\n",
      "Processando herói: phantom_lancer\n",
      "Processando herói: hoodwink\n",
      "Processando herói: meepo\n"
     ]
    },
    {
     "name": "stderr",
     "output_type": "stream",
     "text": [
      "libpng warning: iCCP: known incorrect sRGB profile\n",
      "libpng warning: iCCP: known incorrect sRGB profile\n",
      "libpng warning: iCCP: known incorrect sRGB profile\n",
      "libpng warning: iCCP: known incorrect sRGB profile\n"
     ]
    },
    {
     "name": "stdout",
     "output_type": "stream",
     "text": [
      "Processando herói: ringmaster\n",
      "Processando herói: dragon_knight\n",
      "Processando herói: chaos_knight\n",
      "Processando herói: warlock\n",
      "Processando herói: slark\n"
     ]
    },
    {
     "name": "stderr",
     "output_type": "stream",
     "text": [
      "libpng warning: iCCP: known incorrect sRGB profile\n",
      "libpng warning: iCCP: known incorrect sRGB profile\n",
      "libpng warning: iCCP: known incorrect sRGB profile\n",
      "libpng warning: iCCP: known incorrect sRGB profile\n",
      "libpng warning: iCCP: known incorrect sRGB profile\n"
     ]
    },
    {
     "name": "stdout",
     "output_type": "stream",
     "text": [
      "Processando herói: lina\n",
      "Processando herói: mirana\n",
      "Processando herói: doom_bringer\n",
      "Processando herói: witch_doctor\n",
      "Processando herói: pugna\n"
     ]
    },
    {
     "name": "stderr",
     "output_type": "stream",
     "text": [
      "libpng warning: iCCP: known incorrect sRGB profile\n",
      "libpng warning: iCCP: known incorrect sRGB profile\n",
      "libpng warning: iCCP: known incorrect sRGB profile\n",
      "libpng warning: iCCP: known incorrect sRGB profile\n",
      "libpng warning: iCCP: known incorrect sRGB profile\n"
     ]
    },
    {
     "name": "stdout",
     "output_type": "stream",
     "text": [
      "Processando herói: axe\n",
      "Processando herói: ember_spirit\n",
      "Processando herói: storm_spirit\n",
      "Processando herói: sven\n",
      "Processando herói: obsidian_destroyer\n"
     ]
    },
    {
     "name": "stderr",
     "output_type": "stream",
     "text": [
      "libpng warning: iCCP: known incorrect sRGB profile\n",
      "libpng warning: iCCP: known incorrect sRGB profile\n",
      "libpng warning: iCCP: known incorrect sRGB profile\n",
      "libpng warning: iCCP: known incorrect sRGB profile\n",
      "libpng warning: iCCP: known incorrect sRGB profile\n"
     ]
    },
    {
     "name": "stdout",
     "output_type": "stream",
     "text": [
      "Processando herói: riki\n",
      "Processando herói: puck\n",
      "Processando herói: abaddon\n",
      "Processando herói: broodmother\n",
      "Processando herói: nevermore\n"
     ]
    },
    {
     "name": "stderr",
     "output_type": "stream",
     "text": [
      "libpng warning: iCCP: known incorrect sRGB profile\n",
      "libpng warning: iCCP: known incorrect sRGB profile\n",
      "libpng warning: iCCP: known incorrect sRGB profile\n",
      "libpng warning: iCCP: known incorrect sRGB profile\n"
     ]
    },
    {
     "name": "stdout",
     "output_type": "stream",
     "text": [
      "Processando herói: bounty_hunter\n",
      "Processando herói: venomancer\n",
      "Processando herói: medusa\n",
      "Processando herói: monkey_king\n",
      "Processando herói: night_stalker\n"
     ]
    },
    {
     "name": "stderr",
     "output_type": "stream",
     "text": [
      "libpng warning: iCCP: known incorrect sRGB profile\n",
      "libpng warning: iCCP: known incorrect sRGB profile\n",
      "libpng warning: iCCP: known incorrect sRGB profile\n",
      "libpng warning: iCCP: known incorrect sRGB profile\n",
      "libpng warning: iCCP: known incorrect sRGB profile\n"
     ]
    },
    {
     "name": "stdout",
     "output_type": "stream",
     "text": [
      "Processando herói: morphling\n",
      "Processando herói: shredder\n",
      "Processando herói: keeper_of_the_light\n",
      "Processando herói: undying\n",
      "Processando herói: life_stealer\n"
     ]
    },
    {
     "name": "stderr",
     "output_type": "stream",
     "text": [
      "libpng warning: iCCP: known incorrect sRGB profile\n",
      "libpng warning: iCCP: known incorrect sRGB profile\n",
      "libpng warning: iCCP: known incorrect sRGB profile\n",
      "libpng warning: iCCP: known incorrect sRGB profile\n",
      "libpng warning: iCCP: known incorrect sRGB profile\n"
     ]
    },
    {
     "name": "stdout",
     "output_type": "stream",
     "text": [
      "Processando herói: mars\n",
      "Processando herói: primal_beast\n",
      "Processando herói: enigma\n",
      "Processando herói: disruptor\n",
      "Processando herói: queenofpain\n"
     ]
    },
    {
     "name": "stderr",
     "output_type": "stream",
     "text": [
      "libpng warning: iCCP: known incorrect sRGB profile\n",
      "libpng warning: iCCP: known incorrect sRGB profile\n",
      "libpng warning: iCCP: known incorrect sRGB profile\n",
      "libpng warning: iCCP: known incorrect sRGB profile\n"
     ]
    },
    {
     "name": "stdout",
     "output_type": "stream",
     "text": [
      "Processando herói: void_spirit\n",
      "Processando herói: earthshaker\n",
      "Processando herói: brewmaster\n",
      "Processando herói: rattletrap\n",
      "Processando herói: kunkka\n"
     ]
    },
    {
     "name": "stderr",
     "output_type": "stream",
     "text": [
      "libpng warning: iCCP: known incorrect sRGB profile\n",
      "libpng warning: iCCP: known incorrect sRGB profile\n",
      "libpng warning: iCCP: known incorrect sRGB profile\n",
      "libpng warning: iCCP: known incorrect sRGB profile\n"
     ]
    },
    {
     "name": "stdout",
     "output_type": "stream",
     "text": [
      "Processando herói: muerta\n",
      "Processando herói: ogre_magi\n",
      "Processando herói: tidehunter\n",
      "Processando herói: winter_wyvern\n",
      "Processando herói: dark_willow\n"
     ]
    },
    {
     "name": "stderr",
     "output_type": "stream",
     "text": [
      "libpng warning: iCCP: known incorrect sRGB profile\n",
      "libpng warning: iCCP: known incorrect sRGB profile\n",
      "libpng warning: iCCP: known incorrect sRGB profile\n",
      "libpng warning: iCCP: known incorrect sRGB profile\n",
      "libpng warning: iCCP: known incorrect sRGB profile\n"
     ]
    },
    {
     "name": "stdout",
     "output_type": "stream",
     "text": [
      "Processando herói: centaur\n",
      "Processando herói: beastmaster\n",
      "Processando herói: legion_commander\n",
      "Processando herói: dazzle\n",
      "Processando herói: drow_ranger\n",
      "Processando herói: invoker\n"
     ]
    },
    {
     "name": "stderr",
     "output_type": "stream",
     "text": [
      "libpng warning: iCCP: known incorrect sRGB profile\n",
      "libpng warning: iCCP: known incorrect sRGB profile\n",
      "libpng warning: iCCP: known incorrect sRGB profile\n",
      "libpng warning: iCCP: known incorrect sRGB profile\n",
      "libpng warning: iCCP: known incorrect sRGB profile\n",
      "libpng warning: iCCP: known incorrect sRGB profile\n"
     ]
    },
    {
     "name": "stdout",
     "output_type": "stream",
     "text": [
      "Processando herói: troll_warlord\n",
      "Processando herói: snapfire\n",
      "Processando herói: leshrac\n",
      "Processando herói: vengefulspirit\n",
      "Processando herói: naga_siren\n"
     ]
    },
    {
     "name": "stderr",
     "output_type": "stream",
     "text": [
      "libpng warning: iCCP: known incorrect sRGB profile\n",
      "libpng warning: iCCP: known incorrect sRGB profile\n",
      "libpng warning: iCCP: known incorrect sRGB profile\n",
      "libpng warning: iCCP: known incorrect sRGB profile\n"
     ]
    },
    {
     "name": "stdout",
     "output_type": "stream",
     "text": [
      "Processando herói: visage\n",
      "Processando herói: sniper\n",
      "Processando herói: dawnbreaker\n",
      "Processando herói: phoenix\n",
      "Processando herói: windranger\n",
      "Processando herói: sniper\n"
     ]
    },
    {
     "name": "stderr",
     "output_type": "stream",
     "text": [
      "libpng warning: iCCP: known incorrect sRGB profile\n",
      "libpng warning: iCCP: known incorrect sRGB profile\n"
     ]
    }
   ],
   "source": [
    "#Cria variações de imagens a partir da base de imagens\n",
    "prepare_dataset()"
   ]
  },
  {
   "cell_type": "code",
   "execution_count": 104,
   "id": "bb3e12d0",
   "metadata": {},
   "outputs": [],
   "source": [
    "import torch\n",
    "import torch.nn as nn\n",
    "import torch.optim as optim\n",
    "from torchvision import models, transforms\n",
    "from torch.utils.data import Dataset, DataLoader\n",
    "import numpy as np\n",
    "import cv2\n",
    "#import pyautogui\n",
    "import time\n",
    "from PIL import Image\n",
    "import os\n",
    "from pathlib import Path\n",
    "from datetime import datetime, timezone\n",
    "\n",
    "class Dota2Dataset(Dataset):\n",
    "    def __init__(self, data_dir, transform=None):\n",
    "        self.data_dir = Path(data_dir)\n",
    "        self.transform = transform\n",
    "        \n",
    "        # Encontrar todos os heróis e seus estados (pick/ban)\n",
    "        self.classes = []\n",
    "        for path in self.data_dir.glob(\"*_*\"):\n",
    "            if path.is_dir():\n",
    "                self.classes.append(path.name)  # Formato: \"heroname_state\"\n",
    "        \n",
    "        self.classes = sorted(self.classes)\n",
    "        self.class_to_idx = {cls: i for i, cls in enumerate(self.classes)}\n",
    "        \n",
    "        self.images = []\n",
    "        self.labels = []\n",
    "        \n",
    "        # Carregar imagens e labels\n",
    "        for class_name in self.classes:\n",
    "            class_dir = self.data_dir / class_name\n",
    "            for img_path in class_dir.glob('*.png'):\n",
    "                self.images.append(str(img_path))\n",
    "                self.labels.append(self.class_to_idx[class_name])\n",
    "    \n",
    "    def __len__(self):\n",
    "        return len(self.images)\n",
    "    \n",
    "    def __getitem__(self, idx):\n",
    "        img_path = self.images[idx]\n",
    "        label = self.labels[idx]\n",
    "        \n",
    "        image = Image.open(img_path).convert('RGB')\n",
    "        if self.transform:\n",
    "            image = self.transform(image)\n",
    "            \n",
    "        return image, label\n",
    "\n",
    "class Dota2HeroClassifier:\n",
    "    def __init__(self, model_path=None, data_dir='hero_dataset'):\n",
    "        self.device = torch.device(\"cuda\" if torch.cuda.is_available() else \"cpu\")\n",
    "        print(f\"Using device: {self.device}\")\n",
    "        \n",
    "        # Definir transformações para as imagens\n",
    "        self.transform = transforms.Compose([\n",
    "            transforms.Resize((256, 144)),\n",
    "            transforms.ToTensor(),\n",
    "            transforms.Normalize(mean=[0.485, 0.456, 0.406], \n",
    "                               std=[0.229, 0.224, 0.225])\n",
    "        ])\n",
    "        \n",
    "        # Carregar dataset e criar modelo\n",
    "        self.dataset = Dota2Dataset(data_dir, self.transform)\n",
    "        \n",
    "        self.model = self._create_model()\n",
    "        \n",
    "        if model_path and os.path.exists(model_path):\n",
    "            self.model.load_state_dict(torch.load(model_path, map_location=self.device))\n",
    "            print(f\"Modelo carregado de {model_path}\")\n",
    "            \n",
    "        self.model = self.model.to(self.device)\n",
    "        \n",
    "        # Criar mapeamento reverso de índice para classe\n",
    "        self.idx_to_class = {v: k for k, v in self.dataset.class_to_idx.items()}\n",
    "    \n",
    "    def _create_model(self):\n",
    "        \"\"\"Cria um modelo MobileNetV2 pré-treinado e modifica a última camada\"\"\"\n",
    "        model = models.mobilenet_v2(pretrained=True)\n",
    "        \n",
    "        # Congelar os pesos do modelo base\n",
    "        for param in model.parameters():\n",
    "            param.requires_grad = False\n",
    "            \n",
    "        # Modificar a última camada para o número de classes\n",
    "        num_features = model.classifier[1].in_features\n",
    "        model.classifier[1] = nn.Linear(num_features, len(self.dataset.classes))\n",
    "        \n",
    "        return model\n",
    "    \n",
    "    def train(self, epochs=10, batch_size=32, learning_rate=0.001):\n",
    "        \"\"\"Treina o modelo com o dataset fornecido\"\"\"\n",
    "        self.model.train()\n",
    "        \n",
    "        train_loader = DataLoader(self.dataset, batch_size=batch_size, shuffle=True)\n",
    "        optimizer = optim.Adam(self.model.classifier.parameters(), lr=learning_rate)\n",
    "        criterion = nn.CrossEntropyLoss()\n",
    "        \n",
    "        for epoch in range(epochs):\n",
    "            running_loss = 0.0\n",
    "            correct = 0\n",
    "            total = 0\n",
    "            \n",
    "            for images, labels in train_loader:\n",
    "                images, labels = images.to(self.device), labels.to(self.device)\n",
    "                \n",
    "                optimizer.zero_grad()\n",
    "                outputs = self.model(images)\n",
    "                loss = criterion(outputs, labels)\n",
    "                loss.backward()\n",
    "                optimizer.step()\n",
    "                \n",
    "                running_loss += loss.item()\n",
    "                _, predicted = torch.max(outputs.data, 1)\n",
    "                total += labels.size(0)\n",
    "                correct += (predicted == labels).sum().item()\n",
    "            \n",
    "            epoch_loss = running_loss / len(train_loader)\n",
    "            accuracy = 100 * correct / total\n",
    "            print(f'Epoch [{epoch+1}/{epochs}], Loss: {epoch_loss:.4f}, Accuracy: {accuracy:.2f}%')\n",
    "    \n",
    "#     def predict_image(self, image):\n",
    "#         \"\"\"Prediz o herói e seu estado em uma imagem\"\"\"\n",
    "#         self.model.eval()\n",
    "        \n",
    "#         # Converter imagem para PIL se necessário\n",
    "#         if isinstance(image, np.ndarray):\n",
    "#             image = Image.fromarray(cv2.cvtColor(image, cv2.COLOR_BGR2RGB))\n",
    "        \n",
    "#         # Aplicar transformações\n",
    "#         image_tensor = self.transform(image).unsqueeze(0).to(self.device)\n",
    "        \n",
    "#         with torch.no_grad():\n",
    "#             outputs = self.model(image_tensor)\n",
    "#             _, predicted = torch.max(outputs, 10)\n",
    "#             confidence = torch.nn.functional.softmax(outputs, dim=1).max().item()\n",
    "#             print(f'Confidence {confidence}')\n",
    "#             if confidence > 0.8:  # Ajuste este limiar conforme necessário\n",
    "#                 class_name = self.idx_to_class[predicted.item()]\n",
    "#                 hero_name, state = class_name.split('_')\n",
    "#                 return {'hero': hero_name, 'state': state, 'confidence': confidence}\n",
    "#             return None\n",
    "\n",
    "    def predict_image(self, image, top_k=8):\n",
    "        \"\"\"Prediz os heróis e seus estados em uma imagem, retornando os top_k resultados\"\"\"\n",
    "        self.model.eval()\n",
    "\n",
    "        # Converter imagem para PIL se necessário\n",
    "        if isinstance(image, np.ndarray):\n",
    "            image = Image.fromarray(cv2.cvtColor(image, cv2.COLOR_BGR2RGB))\n",
    "\n",
    "        # Aplicar transformações\n",
    "        image_tensor = self.transform(image).unsqueeze(0).to(self.device)\n",
    "\n",
    "        with torch.no_grad():\n",
    "            outputs = self.model(image_tensor)\n",
    "            probabilities = torch.nn.functional.softmax(outputs, dim=1)\n",
    "            top_probs, top_indices = torch.topk(probabilities, top_k, dim=1)\n",
    "\n",
    "            predictions = []\n",
    "            for i in range(top_k):\n",
    "                confidence = top_probs[0, i].item()\n",
    "                class_idx = top_indices[0, i].item()\n",
    "                class_name = self.idx_to_class[class_idx]\n",
    "                \n",
    "                state = class_name.split('_')[-1]\n",
    "                \n",
    "                hero_name = class_name[:len(class_name)-len(state)-1]\n",
    "                predictions.append({'hero': hero_name, 'state': state, 'confidence': confidence})\n",
    "\n",
    "            return predictions\n",
    "    \n",
    "    def analyze_draft_image(self, image_path):\n",
    "        \"\"\"Analisa uma imagem estática da tela de draft\"\"\"\n",
    "        # Carregar imagem\n",
    "        image = cv2.imread(image_path)\n",
    "        if image is None:\n",
    "            raise ValueError(f\"Não foi possível carregar a imagem: {image_path}\")\n",
    "            \n",
    "        height, width = image.shape[:2]\n",
    "        mid_width = width // 2\n",
    "        pick_height = int(height * 0.1)\n",
    "        \n",
    "        # Dividir a imagem em lado radiant (esquerdo) e dire (direito)\n",
    "        radiant_side = image[:pick_height, :mid_width]\n",
    "        dire_side = image[:pick_height, mid_width:]\n",
    "        \n",
    "        results = {\n",
    "            'radiant': {'picks': [], 'bans': []},\n",
    "            'dire': {'picks': [], 'bans': []}\n",
    "        }\n",
    "        \n",
    "        # Analisar lado radiant\n",
    "        predictions = self.process_team_side(radiant_side)\n",
    "        for pred in predictions:\n",
    "            if pred['state'] == 'pick':\n",
    "                results['radiant']['picks'].append(pred['hero'])\n",
    "            else:\n",
    "                results['radiant']['bans'].append(pred['hero'])\n",
    "        \n",
    "        # Analisar lado dire\n",
    "        predictions = self.process_team_side(dire_side)\n",
    "        for pred in predictions:\n",
    "            if pred['state'] == 'pick':\n",
    "                results['dire']['picks'].append(pred['hero'])\n",
    "            else:\n",
    "                results['dire']['bans'].append(pred['hero'])\n",
    "        \n",
    "        return results\n",
    "    \n",
    "    def process_team_side(self, image):\n",
    "        \"\"\"Processa um lado da imagem (radiant ou dire) para encontrar heróis\"\"\"\n",
    "        # Obtém o timestamp atual em UTC\n",
    "        timestamp = datetime.now(timezone.utc).timestamp()\n",
    "        # Salvar a imagem\n",
    "        cv2.imwrite(str(timestamp) + '.png', image)\n",
    "        \n",
    "        predictions = []\n",
    "        height, width = image.shape[:2]\n",
    "        \n",
    "        result = self.predict_image(image)\n",
    "        print(result)\n",
    "        \n",
    "        return predictions\n",
    "        \n",
    "#         # Você precisará ajustar estes parâmetros baseado no seu layout\n",
    "#         regions = []\n",
    "        \n",
    "#         # Exemplo de regiões para picks (ajuste conforme necessário)\n",
    "#         pick_y = height // 4\n",
    "#         for i in range(5):  # 5 picks por time\n",
    "#             x = (width // 6) * (i + 1)\n",
    "#             regions.append((x - 50, pick_y - 50, 100, 100))  # (x, y, width, height)\n",
    "        \n",
    "#         # Exemplo de regiões para bans (ajuste conforme necessário)\n",
    "#         ban_y = height * 3 // 4\n",
    "#         for i in range(7):  # 7 bans por time\n",
    "#             x = (width // 8) * (i + 1)\n",
    "#             regions.append((x - 50, ban_y - 50, 100, 100))\n",
    "        \n",
    "#         # Analisar cada região\n",
    "#         for x, y, w, h in regions:\n",
    "#             roi = image[y:y+h, x:x+w]\n",
    "#             prediction = self.predict_image(roi)\n",
    "#             if prediction:\n",
    "#                 predictions.append(prediction)\n",
    "        \n",
    "#         return predictions\n",
    "    \n",
    "#     def run_live(self, interval=0.5):\n",
    "#         \"\"\"Executa o classificador em tempo real\"\"\"\n",
    "#         try:\n",
    "#             while True:\n",
    "#                 screenshot = np.array(pyautogui.screenshot())\n",
    "#                 results = self.analyze_draft_image(screenshot)\n",
    "                \n",
    "#                 print(\"\\nStatus atual:\")\n",
    "#                 print(\"Radiant picks:\", results['radiant']['picks'])\n",
    "#                 print(\"Radiant bans:\", results['radiant']['bans'])\n",
    "#                 print(\"Dire picks:\", results['dire']['picks'])\n",
    "#                 print(\"Dire bans:\", results['dire']['bans'])\n",
    "                \n",
    "#                 time.sleep(interval)\n",
    "#         except KeyboardInterrupt:\n",
    "#             print(\"\\nMonitoramento encerrado pelo usuário.\")\n",
    "    \n",
    "    def save_model(self, path='dota2_model.pth'):\n",
    "        \"\"\"Salva o modelo treinado\"\"\"\n",
    "        torch.save(self.model.state_dict(), path)\n",
    "        print(f\"Modelo salvo em {path}\")\n",
    "\n",
    "# Função auxiliar para teste\n",
    "def test_draft_image(model_path, image_path):\n",
    "    \"\"\"Testa o modelo com uma imagem estática de draft\"\"\"\n",
    "    classifier = Dota2HeroClassifier(model_path=model_path)\n",
    "    results = classifier.analyze_draft_image(image_path)\n",
    "    \n",
    "    print(\"\\nResultados da análise:\")\n",
    "    print(\"\\nRadiant:\")\n",
    "    print(f\"Picks: {results['radiant']['picks']}\")\n",
    "    print(f\"Bans: {results['radiant']['bans']}\")\n",
    "    print(\"\\nDire:\")\n",
    "    print(f\"Picks: {results['dire']['picks']}\")\n",
    "    print(f\"Bans: {results['dire']['bans']}\")\n",
    "    \n",
    "    return results"
   ]
  },
  {
   "cell_type": "code",
   "execution_count": 105,
   "id": "27968249",
   "metadata": {
    "scrolled": true
   },
   "outputs": [
    {
     "name": "stdout",
     "output_type": "stream",
     "text": [
      "Using device: cuda\n"
     ]
    },
    {
     "ename": "TypeError",
     "evalue": "default_collate: batch must contain tensors, numpy arrays, numbers, dicts or lists; found <class 'PIL.Image.Image'>",
     "output_type": "error",
     "traceback": [
      "\u001b[0;31m---------------------------------------------------------------------------\u001b[0m",
      "\u001b[0;31mTypeError\u001b[0m                                 Traceback (most recent call last)",
      "Cell \u001b[0;32mIn [105], line 2\u001b[0m\n\u001b[1;32m      1\u001b[0m classifier \u001b[38;5;241m=\u001b[39m Dota2HeroClassifier()\n\u001b[0;32m----> 2\u001b[0m \u001b[43mclassifier\u001b[49m\u001b[38;5;241;43m.\u001b[39;49m\u001b[43mtrain\u001b[49m\u001b[43m(\u001b[49m\u001b[43mepochs\u001b[49m\u001b[38;5;241;43m=\u001b[39;49m\u001b[38;5;241;43m10\u001b[39;49m\u001b[43m)\u001b[49m\n\u001b[1;32m      3\u001b[0m classifier\u001b[38;5;241m.\u001b[39msave_model(\u001b[38;5;124m'\u001b[39m\u001b[38;5;124mdota2_model.pth\u001b[39m\u001b[38;5;124m'\u001b[39m)\n",
      "Cell \u001b[0;32mIn [104], line 107\u001b[0m, in \u001b[0;36mDota2HeroClassifier.train\u001b[0;34m(self, epochs, batch_size, learning_rate)\u001b[0m\n\u001b[1;32m    104\u001b[0m correct \u001b[38;5;241m=\u001b[39m \u001b[38;5;241m0\u001b[39m\n\u001b[1;32m    105\u001b[0m total \u001b[38;5;241m=\u001b[39m \u001b[38;5;241m0\u001b[39m\n\u001b[0;32m--> 107\u001b[0m \u001b[38;5;28;01mfor\u001b[39;00m images, labels \u001b[38;5;129;01min\u001b[39;00m train_loader:\n\u001b[1;32m    108\u001b[0m     images, labels \u001b[38;5;241m=\u001b[39m images\u001b[38;5;241m.\u001b[39mto(\u001b[38;5;28mself\u001b[39m\u001b[38;5;241m.\u001b[39mdevice), labels\u001b[38;5;241m.\u001b[39mto(\u001b[38;5;28mself\u001b[39m\u001b[38;5;241m.\u001b[39mdevice)\n\u001b[1;32m    110\u001b[0m     optimizer\u001b[38;5;241m.\u001b[39mzero_grad()\n",
      "File \u001b[0;32m~/.pyenv/versions/3.10.6/envs/lewagon/lib/python3.10/site-packages/torch/utils/data/dataloader.py:631\u001b[0m, in \u001b[0;36m_BaseDataLoaderIter.__next__\u001b[0;34m(self)\u001b[0m\n\u001b[1;32m    628\u001b[0m \u001b[38;5;28;01mif\u001b[39;00m \u001b[38;5;28mself\u001b[39m\u001b[38;5;241m.\u001b[39m_sampler_iter \u001b[38;5;129;01mis\u001b[39;00m \u001b[38;5;28;01mNone\u001b[39;00m:\n\u001b[1;32m    629\u001b[0m     \u001b[38;5;66;03m# TODO(https://github.com/pytorch/pytorch/issues/76750)\u001b[39;00m\n\u001b[1;32m    630\u001b[0m     \u001b[38;5;28mself\u001b[39m\u001b[38;5;241m.\u001b[39m_reset()  \u001b[38;5;66;03m# type: ignore[call-arg]\u001b[39;00m\n\u001b[0;32m--> 631\u001b[0m data \u001b[38;5;241m=\u001b[39m \u001b[38;5;28;43mself\u001b[39;49m\u001b[38;5;241;43m.\u001b[39;49m\u001b[43m_next_data\u001b[49m\u001b[43m(\u001b[49m\u001b[43m)\u001b[49m\n\u001b[1;32m    632\u001b[0m \u001b[38;5;28mself\u001b[39m\u001b[38;5;241m.\u001b[39m_num_yielded \u001b[38;5;241m+\u001b[39m\u001b[38;5;241m=\u001b[39m \u001b[38;5;241m1\u001b[39m\n\u001b[1;32m    633\u001b[0m \u001b[38;5;28;01mif\u001b[39;00m \u001b[38;5;28mself\u001b[39m\u001b[38;5;241m.\u001b[39m_dataset_kind \u001b[38;5;241m==\u001b[39m _DatasetKind\u001b[38;5;241m.\u001b[39mIterable \u001b[38;5;129;01mand\u001b[39;00m \\\n\u001b[1;32m    634\u001b[0m         \u001b[38;5;28mself\u001b[39m\u001b[38;5;241m.\u001b[39m_IterableDataset_len_called \u001b[38;5;129;01mis\u001b[39;00m \u001b[38;5;129;01mnot\u001b[39;00m \u001b[38;5;28;01mNone\u001b[39;00m \u001b[38;5;129;01mand\u001b[39;00m \\\n\u001b[1;32m    635\u001b[0m         \u001b[38;5;28mself\u001b[39m\u001b[38;5;241m.\u001b[39m_num_yielded \u001b[38;5;241m>\u001b[39m \u001b[38;5;28mself\u001b[39m\u001b[38;5;241m.\u001b[39m_IterableDataset_len_called:\n",
      "File \u001b[0;32m~/.pyenv/versions/3.10.6/envs/lewagon/lib/python3.10/site-packages/torch/utils/data/dataloader.py:675\u001b[0m, in \u001b[0;36m_SingleProcessDataLoaderIter._next_data\u001b[0;34m(self)\u001b[0m\n\u001b[1;32m    673\u001b[0m \u001b[38;5;28;01mdef\u001b[39;00m \u001b[38;5;21m_next_data\u001b[39m(\u001b[38;5;28mself\u001b[39m):\n\u001b[1;32m    674\u001b[0m     index \u001b[38;5;241m=\u001b[39m \u001b[38;5;28mself\u001b[39m\u001b[38;5;241m.\u001b[39m_next_index()  \u001b[38;5;66;03m# may raise StopIteration\u001b[39;00m\n\u001b[0;32m--> 675\u001b[0m     data \u001b[38;5;241m=\u001b[39m \u001b[38;5;28;43mself\u001b[39;49m\u001b[38;5;241;43m.\u001b[39;49m\u001b[43m_dataset_fetcher\u001b[49m\u001b[38;5;241;43m.\u001b[39;49m\u001b[43mfetch\u001b[49m\u001b[43m(\u001b[49m\u001b[43mindex\u001b[49m\u001b[43m)\u001b[49m  \u001b[38;5;66;03m# may raise StopIteration\u001b[39;00m\n\u001b[1;32m    676\u001b[0m     \u001b[38;5;28;01mif\u001b[39;00m \u001b[38;5;28mself\u001b[39m\u001b[38;5;241m.\u001b[39m_pin_memory:\n\u001b[1;32m    677\u001b[0m         data \u001b[38;5;241m=\u001b[39m _utils\u001b[38;5;241m.\u001b[39mpin_memory\u001b[38;5;241m.\u001b[39mpin_memory(data, \u001b[38;5;28mself\u001b[39m\u001b[38;5;241m.\u001b[39m_pin_memory_device)\n",
      "File \u001b[0;32m~/.pyenv/versions/3.10.6/envs/lewagon/lib/python3.10/site-packages/torch/utils/data/_utils/fetch.py:54\u001b[0m, in \u001b[0;36m_MapDatasetFetcher.fetch\u001b[0;34m(self, possibly_batched_index)\u001b[0m\n\u001b[1;32m     52\u001b[0m \u001b[38;5;28;01melse\u001b[39;00m:\n\u001b[1;32m     53\u001b[0m     data \u001b[38;5;241m=\u001b[39m \u001b[38;5;28mself\u001b[39m\u001b[38;5;241m.\u001b[39mdataset[possibly_batched_index]\n\u001b[0;32m---> 54\u001b[0m \u001b[38;5;28;01mreturn\u001b[39;00m \u001b[38;5;28;43mself\u001b[39;49m\u001b[38;5;241;43m.\u001b[39;49m\u001b[43mcollate_fn\u001b[49m\u001b[43m(\u001b[49m\u001b[43mdata\u001b[49m\u001b[43m)\u001b[49m\n",
      "File \u001b[0;32m~/.pyenv/versions/3.10.6/envs/lewagon/lib/python3.10/site-packages/torch/utils/data/_utils/collate.py:277\u001b[0m, in \u001b[0;36mdefault_collate\u001b[0;34m(batch)\u001b[0m\n\u001b[1;32m    216\u001b[0m \u001b[38;5;28;01mdef\u001b[39;00m \u001b[38;5;21mdefault_collate\u001b[39m(batch):\n\u001b[1;32m    217\u001b[0m     \u001b[38;5;124mr\u001b[39m\u001b[38;5;124;03m\"\"\"\u001b[39;00m\n\u001b[1;32m    218\u001b[0m \u001b[38;5;124;03m    Take in a batch of data and put the elements within the batch into a tensor with an additional outer dimension - batch size.\u001b[39;00m\n\u001b[1;32m    219\u001b[0m \n\u001b[0;32m   (...)\u001b[0m\n\u001b[1;32m    275\u001b[0m \u001b[38;5;124;03m        >>> default_collate(batch)  # Handle `CustomType` automatically\u001b[39;00m\n\u001b[1;32m    276\u001b[0m \u001b[38;5;124;03m    \"\"\"\u001b[39;00m\n\u001b[0;32m--> 277\u001b[0m     \u001b[38;5;28;01mreturn\u001b[39;00m \u001b[43mcollate\u001b[49m\u001b[43m(\u001b[49m\u001b[43mbatch\u001b[49m\u001b[43m,\u001b[49m\u001b[43m \u001b[49m\u001b[43mcollate_fn_map\u001b[49m\u001b[38;5;241;43m=\u001b[39;49m\u001b[43mdefault_collate_fn_map\u001b[49m\u001b[43m)\u001b[49m\n",
      "File \u001b[0;32m~/.pyenv/versions/3.10.6/envs/lewagon/lib/python3.10/site-packages/torch/utils/data/_utils/collate.py:144\u001b[0m, in \u001b[0;36mcollate\u001b[0;34m(batch, collate_fn_map)\u001b[0m\n\u001b[1;32m    141\u001b[0m transposed \u001b[38;5;241m=\u001b[39m \u001b[38;5;28mlist\u001b[39m(\u001b[38;5;28mzip\u001b[39m(\u001b[38;5;241m*\u001b[39mbatch))  \u001b[38;5;66;03m# It may be accessed twice, so we use a list.\u001b[39;00m\n\u001b[1;32m    143\u001b[0m \u001b[38;5;28;01mif\u001b[39;00m \u001b[38;5;28misinstance\u001b[39m(elem, \u001b[38;5;28mtuple\u001b[39m):\n\u001b[0;32m--> 144\u001b[0m     \u001b[38;5;28;01mreturn\u001b[39;00m [collate(samples, collate_fn_map\u001b[38;5;241m=\u001b[39mcollate_fn_map) \u001b[38;5;28;01mfor\u001b[39;00m samples \u001b[38;5;129;01min\u001b[39;00m transposed]  \u001b[38;5;66;03m# Backwards compatibility.\u001b[39;00m\n\u001b[1;32m    145\u001b[0m \u001b[38;5;28;01melse\u001b[39;00m:\n\u001b[1;32m    146\u001b[0m     \u001b[38;5;28;01mtry\u001b[39;00m:\n",
      "File \u001b[0;32m~/.pyenv/versions/3.10.6/envs/lewagon/lib/python3.10/site-packages/torch/utils/data/_utils/collate.py:144\u001b[0m, in \u001b[0;36m<listcomp>\u001b[0;34m(.0)\u001b[0m\n\u001b[1;32m    141\u001b[0m transposed \u001b[38;5;241m=\u001b[39m \u001b[38;5;28mlist\u001b[39m(\u001b[38;5;28mzip\u001b[39m(\u001b[38;5;241m*\u001b[39mbatch))  \u001b[38;5;66;03m# It may be accessed twice, so we use a list.\u001b[39;00m\n\u001b[1;32m    143\u001b[0m \u001b[38;5;28;01mif\u001b[39;00m \u001b[38;5;28misinstance\u001b[39m(elem, \u001b[38;5;28mtuple\u001b[39m):\n\u001b[0;32m--> 144\u001b[0m     \u001b[38;5;28;01mreturn\u001b[39;00m [\u001b[43mcollate\u001b[49m\u001b[43m(\u001b[49m\u001b[43msamples\u001b[49m\u001b[43m,\u001b[49m\u001b[43m \u001b[49m\u001b[43mcollate_fn_map\u001b[49m\u001b[38;5;241;43m=\u001b[39;49m\u001b[43mcollate_fn_map\u001b[49m\u001b[43m)\u001b[49m \u001b[38;5;28;01mfor\u001b[39;00m samples \u001b[38;5;129;01min\u001b[39;00m transposed]  \u001b[38;5;66;03m# Backwards compatibility.\u001b[39;00m\n\u001b[1;32m    145\u001b[0m \u001b[38;5;28;01melse\u001b[39;00m:\n\u001b[1;32m    146\u001b[0m     \u001b[38;5;28;01mtry\u001b[39;00m:\n",
      "File \u001b[0;32m~/.pyenv/versions/3.10.6/envs/lewagon/lib/python3.10/site-packages/torch/utils/data/_utils/collate.py:152\u001b[0m, in \u001b[0;36mcollate\u001b[0;34m(batch, collate_fn_map)\u001b[0m\n\u001b[1;32m    148\u001b[0m         \u001b[38;5;28;01mexcept\u001b[39;00m \u001b[38;5;167;01mTypeError\u001b[39;00m:\n\u001b[1;32m    149\u001b[0m             \u001b[38;5;66;03m# The sequence type may not support `__init__(iterable)` (e.g., `range`).\u001b[39;00m\n\u001b[1;32m    150\u001b[0m             \u001b[38;5;28;01mreturn\u001b[39;00m [collate(samples, collate_fn_map\u001b[38;5;241m=\u001b[39mcollate_fn_map) \u001b[38;5;28;01mfor\u001b[39;00m samples \u001b[38;5;129;01min\u001b[39;00m transposed]\n\u001b[0;32m--> 152\u001b[0m \u001b[38;5;28;01mraise\u001b[39;00m \u001b[38;5;167;01mTypeError\u001b[39;00m(default_collate_err_msg_format\u001b[38;5;241m.\u001b[39mformat(elem_type))\n",
      "\u001b[0;31mTypeError\u001b[0m: default_collate: batch must contain tensors, numpy arrays, numbers, dicts or lists; found <class 'PIL.Image.Image'>"
     ]
    }
   ],
   "source": [
    "classifier = Dota2HeroClassifier()\n",
    "classifier.train(epochs=10)\n",
    "classifier.save_model('dota2_model.pth')"
   ]
  },
  {
   "cell_type": "code",
   "execution_count": 101,
   "id": "82d57d0d",
   "metadata": {},
   "outputs": [
    {
     "name": "stdout",
     "output_type": "stream",
     "text": [
      "Using device: cuda\n",
      "Modelo carregado de dota2_model.pth\n",
      "[{'hero': 'tinker_', 'state': 'pick', 'confidence': 0.1373734325170517}, {'hero': 'alchemist_', 'state': 'pick', 'confidence': 0.06143878772854805}, {'hero': 'winter_wyvern_', 'state': 'pick', 'confidence': 0.059412434697151184}, {'hero': 'dragon_knight_', 'state': 'pick', 'confidence': 0.05811296030879021}, {'hero': 'treant_', 'state': 'pick', 'confidence': 0.05450005456805229}, {'hero': 'furion_', 'state': 'pick', 'confidence': 0.04313311725854874}, {'hero': 'weaver_', 'state': 'pick', 'confidence': 0.042884841561317444}, {'hero': 'night_stalker_', 'state': 'pick', 'confidence': 0.028602413833141327}]\n",
      "[{'hero': 'winter_wyvern_', 'state': 'pick', 'confidence': 0.2217903584241867}, {'hero': 'dark_seer_', 'state': 'pick', 'confidence': 0.0765412449836731}, {'hero': 'sniper_', 'state': 'pick', 'confidence': 0.06578758358955383}, {'hero': 'treant_', 'state': 'pick', 'confidence': 0.04691163823008537}, {'hero': 'tinker_', 'state': 'pick', 'confidence': 0.037222448736429214}, {'hero': 'enchantress_', 'state': 'pick', 'confidence': 0.0332629531621933}, {'hero': 'lich_', 'state': 'pick', 'confidence': 0.03252723440527916}, {'hero': 'furion_', 'state': 'pick', 'confidence': 0.025977477431297302}]\n",
      "\n",
      "Resultados da análise:\n",
      "\n",
      "Radiant:\n",
      "Picks: []\n",
      "Bans: []\n",
      "\n",
      "Dire:\n",
      "Picks: []\n",
      "Bans: []\n"
     ]
    },
    {
     "data": {
      "text/plain": [
       "{'radiant': {'picks': [], 'bans': []}, 'dire': {'picks': [], 'bans': []}}"
      ]
     },
     "execution_count": 101,
     "metadata": {},
     "output_type": "execute_result"
    }
   ],
   "source": [
    "test_draft_image('dota2_model.pth', 'DOTA_2_DRAFT.png')"
   ]
  },
  {
   "cell_type": "code",
   "execution_count": 69,
   "id": "88c137a3",
   "metadata": {},
   "outputs": [],
   "source": [
    "transform = transforms.Compose([\n",
    "            transforms.Resize((224, 224)),\n",
    "            transforms.ToTensor(),\n",
    "            transforms.Normalize(mean=[0.485, 0.456, 0.406], \n",
    "                               std=[0.229, 0.224, 0.225])\n",
    "        ])\n",
    "\n",
    "dataset = Dota2Dataset('hero_dataset', transform)"
   ]
  },
  {
   "cell_type": "code",
   "execution_count": 99,
   "id": "93f10107",
   "metadata": {},
   "outputs": [
    {
     "data": {
      "text/plain": [
       "{'abaddon_pick': 0,\n",
       " 'abyssal_underlord_pick': 1,\n",
       " 'alchemist_pick': 2,\n",
       " 'ancient_apparition_pick': 3,\n",
       " 'antimage_pick': 4,\n",
       " 'arc_warden_pick': 5,\n",
       " 'axe_pick': 6,\n",
       " 'bane_pick': 7,\n",
       " 'batrider_pick': 8,\n",
       " 'beastmaster_pick': 9,\n",
       " 'bloodseeker_pick': 10,\n",
       " 'bounty_hunter_pick': 11,\n",
       " 'brewmaster_pick': 12,\n",
       " 'bristleback_pick': 13,\n",
       " 'broodmother_pick': 14,\n",
       " 'centaur_pick': 15,\n",
       " 'chaos_knight_pick': 16,\n",
       " 'chen_pick': 17,\n",
       " 'clinkz_pick': 18,\n",
       " 'crystal_maiden_pick': 19,\n",
       " 'dark_seer_pick': 20,\n",
       " 'dark_willow_pick': 21,\n",
       " 'dawnbreaker_pick': 22,\n",
       " 'dazzle_pick': 23,\n",
       " 'death_prophet_pick': 24,\n",
       " 'disruptor_pick': 25,\n",
       " 'doom_bringer_pick': 26,\n",
       " 'dragon_knight_pick': 27,\n",
       " 'drow_ranger_pick': 28,\n",
       " 'earth_spirit_pick': 29,\n",
       " 'earthshaker_pick': 30,\n",
       " 'elder_titan_pick': 31,\n",
       " 'ember_spirit_pick': 32,\n",
       " 'enchantress_pick': 33,\n",
       " 'enigma_pick': 34,\n",
       " 'faceless_void_pick': 35,\n",
       " 'furion_pick': 36,\n",
       " 'grimstroke_pick': 37,\n",
       " 'gyrocopter_pick': 38,\n",
       " 'hoodwink_pick': 39,\n",
       " 'huskar_pick': 40,\n",
       " 'invoker_pick': 41,\n",
       " 'jakiro_pick': 42,\n",
       " 'juggernaut_pick': 43,\n",
       " 'keeper_of_the_light_pick': 44,\n",
       " 'kunkka_pick': 45,\n",
       " 'legion_commander_pick': 46,\n",
       " 'leshrac_pick': 47,\n",
       " 'lich_pick': 48,\n",
       " 'life_stealer_pick': 49,\n",
       " 'lina_pick': 50,\n",
       " 'lion_pick': 51,\n",
       " 'lone_druid_pick': 52,\n",
       " 'luna_pick': 53,\n",
       " 'lycan_pick': 54,\n",
       " 'magnataur_pick': 55,\n",
       " 'marci_pick': 56,\n",
       " 'mars_pick': 57,\n",
       " 'medusa_pick': 58,\n",
       " 'meepo_pick': 59,\n",
       " 'mirana_pick': 60,\n",
       " 'monkey_king_pick': 61,\n",
       " 'morphling_pick': 62,\n",
       " 'muerta_pick': 63,\n",
       " 'naga_siren_pick': 64,\n",
       " 'necrolyte_pick': 65,\n",
       " 'nevermore_pick': 66,\n",
       " 'night_stalker_pick': 67,\n",
       " 'nyx_assassin_pick': 68,\n",
       " 'obsidian_destroyer_pick': 69,\n",
       " 'ogre_magi_pick': 70,\n",
       " 'omniknight_pick': 71,\n",
       " 'oracle_pick': 72,\n",
       " 'pangolier_pick': 73,\n",
       " 'phantom_assassin_pick': 74,\n",
       " 'phantom_lancer_pick': 75,\n",
       " 'phoenix_pick': 76,\n",
       " 'primal_beast_pick': 77,\n",
       " 'puck_pick': 78,\n",
       " 'pudge_pick': 79,\n",
       " 'pugna_pick': 80,\n",
       " 'queenofpain_pick': 81,\n",
       " 'rattletrap_pick': 82,\n",
       " 'razor_pick': 83,\n",
       " 'riki_pick': 84,\n",
       " 'ringmaster_pick': 85,\n",
       " 'rubick_pick': 86,\n",
       " 'sand_king_pick': 87,\n",
       " 'shadow_demon_pick': 88,\n",
       " 'shadow_shaman_pick': 89,\n",
       " 'shredder_pick': 90,\n",
       " 'silencer_pick': 91,\n",
       " 'skeleton_king_pick': 92,\n",
       " 'skywrath_mage_pick': 93,\n",
       " 'slardar_pick': 94,\n",
       " 'slark_pick': 95,\n",
       " 'snapfire_pick': 96,\n",
       " 'sniper_ban': 97,\n",
       " 'sniper_pick': 98,\n",
       " 'spectre_pick': 99,\n",
       " 'spirit_breaker_pick': 100,\n",
       " 'storm_spirit_pick': 101,\n",
       " 'sven_pick': 102,\n",
       " 'techies_pick': 103,\n",
       " 'templar_assassin_pick': 104,\n",
       " 'terrorblade_pick': 105,\n",
       " 'tidehunter_pick': 106,\n",
       " 'tinker_pick': 107,\n",
       " 'tiny_pick': 108,\n",
       " 'treant_pick': 109,\n",
       " 'troll_warlord_pick': 110,\n",
       " 'tusk_pick': 111,\n",
       " 'undying_pick': 112,\n",
       " 'ursa_pick': 113,\n",
       " 'vengefulspirit_pick': 114,\n",
       " 'venomancer_pick': 115,\n",
       " 'viper_pick': 116,\n",
       " 'visage_pick': 117,\n",
       " 'void_spirit_pick': 118,\n",
       " 'warlock_pick': 119,\n",
       " 'weaver_pick': 120,\n",
       " 'windranger_ban': 121,\n",
       " 'windrunner_pick': 122,\n",
       " 'winter_wyvern_pick': 123,\n",
       " 'wisp_pick': 124,\n",
       " 'witch_doctor_pick': 125,\n",
       " 'zuus_pick': 126}"
      ]
     },
     "execution_count": 99,
     "metadata": {},
     "output_type": "execute_result"
    }
   ],
   "source": [
    "dataset.class_to_idx"
   ]
  },
  {
   "cell_type": "code",
   "execution_count": null,
   "id": "87e67a79",
   "metadata": {},
   "outputs": [],
   "source": []
  }
 ],
 "metadata": {
  "kernelspec": {
   "display_name": "Python 3 (ipykernel)",
   "language": "python",
   "name": "python3"
  },
  "language_info": {
   "codemirror_mode": {
    "name": "ipython",
    "version": 3
   },
   "file_extension": ".py",
   "mimetype": "text/x-python",
   "name": "python",
   "nbconvert_exporter": "python",
   "pygments_lexer": "ipython3",
   "version": "3.10.6"
  },
  "toc": {
   "base_numbering": 1,
   "nav_menu": {},
   "number_sections": true,
   "sideBar": true,
   "skip_h1_title": false,
   "title_cell": "Table of Contents",
   "title_sidebar": "Contents",
   "toc_cell": false,
   "toc_position": {},
   "toc_section_display": true,
   "toc_window_display": false
  }
 },
 "nbformat": 4,
 "nbformat_minor": 5
}
